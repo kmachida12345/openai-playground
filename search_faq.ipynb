{
  "nbformat": 4,
  "nbformat_minor": 0,
  "metadata": {
    "colab": {
      "provenance": [],
      "authorship_tag": "ABX9TyMUJMGSDCKGs7Zfj+4Yvmn1",
      "include_colab_link": true
    },
    "kernelspec": {
      "name": "python3",
      "display_name": "Python 3"
    },
    "language_info": {
      "name": "python"
    }
  },
  "cells": [
    {
      "cell_type": "markdown",
      "metadata": {
        "id": "view-in-github",
        "colab_type": "text"
      },
      "source": [
        "<a href=\"https://colab.research.google.com/github/kmachida12345/openai-playground/blob/main/search_faq.ipynb\" target=\"_parent\"><img src=\"https://colab.research.google.com/assets/colab-badge.svg\" alt=\"Open In Colab\"/></a>"
      ]
    },
    {
      "cell_type": "markdown",
      "source": [
        "# パッケージのインスコ"
      ],
      "metadata": {
        "id": "nc3iD_2J803m"
      }
    },
    {
      "cell_type": "code",
      "source": [
        "!pip install openai"
      ],
      "metadata": {
        "id": "SWbPQf4S80XU"
      },
      "execution_count": null,
      "outputs": []
    },
    {
      "cell_type": "markdown",
      "source": [
        "# 環境変数の読み込み"
      ],
      "metadata": {
        "id": "CvznVVT_84wR"
      }
    },
    {
      "cell_type": "code",
      "source": [
        "import os\n",
        "os.environ[\"OPENAI_API_KEY\"] = \"\""
      ],
      "metadata": {
        "id": "g5ASDHps87ZC"
      },
      "execution_count": null,
      "outputs": []
    },
    {
      "cell_type": "markdown",
      "source": [
        "# Embeddings生成"
      ],
      "metadata": {
        "id": "eqYhdLjs87xg"
      }
    },
    {
      "cell_type": "markdown",
      "source": [
        "csvはtitleとcontentsを持っている想定。\n",
        "Embeddingsを生成してrowに追加した新しいデータを作って保存する。"
      ],
      "metadata": {
        "id": "M2NR5ro69460"
      }
    },
    {
      "cell_type": "code",
      "execution_count": null,
      "metadata": {
        "id": "uO9hDmfV8xtT"
      },
      "outputs": [],
      "source": [
        "import pandas as pd\n",
        "import openai\n",
        "import time\n",
        "\n",
        "df = pd.read_csv(\"faq_list.csv\", on_bad_lines='skip')\n",
        "\n",
        "dfList = []\n",
        "for index, row in df.iterrows():\n",
        "    print(index) #To keep track of which row we are on\n",
        "\n",
        "    entry = {}\n",
        "    entry['question'] = row['question']\n",
        "    entry['answer'] = row['answer']\n",
        "\n",
        "    entry['embedding'] = openai.Embedding.create(input = row['question'], model=\"text-embedding-ada-002\")['data'][0]['embedding']\n",
        "    \n",
        "    dfList.append(entry)\n",
        "\n",
        "    time.sleep(1) #To avoid rate limiting\n",
        "\n",
        "df = pd.DataFrame(dfList)\n",
        "df.to_csv(\"faq_embeddings.csv\", index=False)"
      ]
    },
    {
      "cell_type": "markdown",
      "source": [
        "# 生成したEmbeddingsを検索"
      ],
      "metadata": {
        "id": "rlKIH_zO9XNv"
      }
    },
    {
      "cell_type": "markdown",
      "source": [
        "Embeddingsの列だけ抜き出して検索をかけ、ヒットしたインデックスを元のデータと突き合わせて表示する"
      ],
      "metadata": {
        "id": "a8PPRpWMBKlf"
      }
    },
    {
      "cell_type": "code",
      "source": [
        "import pandas as pd\n",
        "import openai\n",
        "import numpy as np\n",
        "from openai.embeddings_utils import distances_from_embeddings, indices_of_nearest_neighbors_from_distances\n",
        "\n",
        "df = pd.read_csv(\"faq_embeddings.csv\", on_bad_lines='skip')\n",
        "\n",
        "query = input(\"word or sentence:\")\n",
        "\n",
        "# Convert query to embedding\n",
        "query_embedding = openai.Embedding.create(input=query, model=\"text-embedding-ada-002\")['data'][0]['embedding']\n",
        "\n",
        "# Create a new column in the dataframe that contains the embeddings as numpy arrays\n",
        "embeddings = df['embedding'].apply(eval).apply(np.array)\n",
        "\n",
        "# Calculate the distances between the query embedding and the summary embeddings using the cosine distance metric\n",
        "distances = distances_from_embeddings(query_embedding, embeddings, distance_metric=\"cosine\")\n",
        "\n",
        "# Get the indices of the nearest neighbors\n",
        "indices_of_nearest_neighbors = indices_of_nearest_neighbors_from_distances(distances)\n",
        "\n",
        "print(\"found:\")\n",
        "print(df.loc[indices_of_nearest_neighbors[:5]]['title'])\n",
        "\n",
        "print(\"contents of each:\")\n",
        "print(df.loc[indices_of_nearest_neighbors[:5]]['contents'])\n",
        "\n"
      ],
      "metadata": {
        "id": "tGP76Xgc9W3X",
        "collapsed": true
      },
      "execution_count": null,
      "outputs": []
    }
  ]
}