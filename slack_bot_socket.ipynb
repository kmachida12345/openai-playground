{
  "nbformat": 4,
  "nbformat_minor": 0,
  "metadata": {
    "colab": {
      "provenance": [],
      "authorship_tag": "ABX9TyOS0CTGv1gU+eNKfQh/wFNW",
      "include_colab_link": true
    },
    "kernelspec": {
      "name": "python3",
      "display_name": "Python 3"
    },
    "language_info": {
      "name": "python"
    }
  },
  "cells": [
    {
      "cell_type": "markdown",
      "metadata": {
        "id": "view-in-github",
        "colab_type": "text"
      },
      "source": [
        "<a href=\"https://colab.research.google.com/github/kmachida12345/openai-playground/blob/main/slack_bot_socket.ipynb\" target=\"_parent\"><img src=\"https://colab.research.google.com/assets/colab-badge.svg\" alt=\"Open In Colab\"/></a>"
      ]
    },
    {
      "cell_type": "code",
      "execution_count": null,
      "metadata": {
        "id": "hKKqabyNRnDG"
      },
      "outputs": [],
      "source": [
        "import os\n",
        "from slack_bolt import App\n",
        "from slack_bolt.adapter.socket_mode import SocketModeHandler\n",
        "import openai\n",
        "\n",
        "SLACK_APP_TOKEN = os.environ.get(\"SLACK_APP_TOKEN\")\n",
        "SLACK_BOT_TOKEN = os.environ.get(\"SLACK_BOT_TOKEN\")\n",
        "OPENAI_API_KEY = os.environ.get(\"OPENAI_API_KEY\")\n",
        "\n",
        "openai.api_key = OPENAI_API_KEY\n",
        "\n",
        "app = App(token=SLACK_BOT_TOKEN)\n",
        "\n",
        "@app.event(\"app_mention\")                                                                                                   \n",
        "def command_handler(body, say):\n",
        "    text = body['event'].get('text')\n",
        "    thread_ts = body['event']['ts']\n",
        "    \n",
        "    say(text=\"wait a minute please...\", thread_ts=thread_ts)\n",
        "    \n",
        "    response = chat_with_gpt(text)\n",
        "    say(text=response, thread_ts=thread_ts)\n",
        "\n",
        "def chat_with_gpt(prompt):\n",
        "    \n",
        "    response = openai.ChatCompletion.create(\n",
        "        model=\"gpt-3.5-turbo\",\n",
        "        messages=[\n",
        "            {\"role\": \"user\", \"content\": prompt},\n",
        "        ],\n",
        "    )\n",
        "    message = response.choices[0].message.content\n",
        "    return message\n",
        "\n",
        "if __name__ == \"__main__\":\n",
        "    handler = SocketModeHandler(app, SLACK_APP_TOKEN)\n",
        "    handler.start()\n"
      ]
    },
    {
      "cell_type": "markdown",
      "source": [
        "めも\n",
        "AWS LambdaにデプロイするときはSlackBoltのアダプタがあるのでそれを使う。OpenAiのAPIはレスポンスに時間がかかるのでSlack側がタイムアウトして再度リクエストが飛んでくる。API呼び出しと返信処理をSQSにキューイングしてやればとりあえず回避できる。受けるイベントがメンションじゃなければlazy_listenerが使えるかもだけど試してない。"
      ],
      "metadata": {
        "id": "Uk9p0CIkSAu6"
      }
    }
  ]
}